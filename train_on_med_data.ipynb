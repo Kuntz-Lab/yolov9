{
 "cells": [
  {
   "cell_type": "code",
   "execution_count": null,
   "id": "ca2cf9c9",
   "metadata": {},
   "outputs": [],
   "source": [
    "import argparse\n",
    "import math\n",
    "import os\n",
    "import random\n",
    "import sys\n",
    "import time\n",
    "from copy import deepcopy\n",
    "from datetime import datetime\n",
    "from pathlib import Path\n",
    "\n",
    "import numpy as np\n",
    "import torch\n",
    "import torch.distributed as dist\n",
    "import torch.nn as nn\n",
    "import yaml\n",
    "from torch.optim import lr_scheduler\n",
    "from tqdm import tqdm\n",
    "\n",
    "# FILE = Path(__file__).resolve()\n",
    "# ROOT = FILE.parents[0]  # root directory\n",
    "# if str(ROOT) not in sys.path:\n",
    "#     sys.path.append(str(ROOT))  # add ROOT to PATH\n",
    "# ROOT = Path(os.path.relpath(ROOT, Path.cwd()))  # relative\n",
    "\n",
    "import val as validate  # for end-of-epoch mAP\n",
    "from models.experimental import attempt_load\n",
    "from models.yolo import Model\n",
    "from utils.autoanchor import check_anchors\n",
    "from utils.autobatch import check_train_batch_size\n",
    "from utils.callbacks import Callbacks\n",
    "from utils.dataloaders import create_dataloader\n",
    "from utils.downloads import attempt_download, is_url\n",
    "from utils.general import (LOGGER, TQDM_BAR_FORMAT, check_amp, check_dataset, check_file, check_img_size,\n",
    "                           check_suffix, check_yaml, colorstr, get_latest_run, increment_path, init_seeds,\n",
    "                           intersect_dicts, labels_to_class_weights, labels_to_image_weights, methods,\n",
    "                           one_cycle, one_flat_cycle, print_args, print_mutation, strip_optimizer, yaml_save)\n",
    "from utils.loggers import Loggers\n",
    "from utils.loggers.comet.comet_utils import check_comet_resume\n",
    "from utils.loss_tal import ComputeLoss\n",
    "from utils.metrics import fitness\n",
    "from utils.plots import plot_evolve\n",
    "from utils.torch_utils import (EarlyStopping, ModelEMA, de_parallel, select_device, smart_DDP,\n",
    "                               smart_optimizer, smart_resume, torch_distributed_zero_first)\n",
    "\n",
    "LOCAL_RANK = int(os.getenv('LOCAL_RANK', -1))  # https://pytorch.org/docs/stable/elastic/run.html\n",
    "RANK = int(os.getenv('RANK', -1))\n",
    "WORLD_SIZE = int(os.getenv('WORLD_SIZE', 1))\n",
    "GIT_INFO = None\n",
    "\n",
    "DEVICE = torch.device('cuda' if torch.cuda.is_available() else 'cpu')"
   ]
  },
  {
   "cell_type": "code",
   "execution_count": null,
   "id": "7321bfa8",
   "metadata": {},
   "outputs": [],
   "source": []
  }
 ],
 "metadata": {
  "kernelspec": {
   "display_name": "base",
   "language": "python",
   "name": "python3"
  },
  "language_info": {
   "codemirror_mode": {
    "name": "ipython",
    "version": 3
   },
   "file_extension": ".py",
   "mimetype": "text/x-python",
   "name": "python",
   "nbconvert_exporter": "python",
   "pygments_lexer": "ipython3",
   "version": "3.12.2"
  }
 },
 "nbformat": 4,
 "nbformat_minor": 5
}
